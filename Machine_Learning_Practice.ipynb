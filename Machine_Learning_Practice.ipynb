{
  "nbformat": 4,
  "nbformat_minor": 0,
  "metadata": {
    "colab": {
      "name": "Machine Learning Practice",
      "provenance": [],
      "collapsed_sections": [],
      "authorship_tag": "ABX9TyPOwvK1oJRi9DFDSiq4izrW",
      "include_colab_link": true
    },
    "kernelspec": {
      "name": "python3",
      "display_name": "Python 3"
    }
  },
  "cells": [
    {
      "cell_type": "markdown",
      "metadata": {
        "id": "view-in-github",
        "colab_type": "text"
      },
      "source": [
        "<a href=\"https://colab.research.google.com/github/joyal-joseph/Machine-Learning-Practice/blob/master/Machine_Learning_Practice.ipynb\" target=\"_parent\"><img src=\"https://colab.research.google.com/assets/colab-badge.svg\" alt=\"Open In Colab\"/></a>"
      ]
    },
    {
      "cell_type": "markdown",
      "metadata": {
        "id": "AVdzUkrljNN1",
        "colab_type": "text"
      },
      "source": [
        "## First Cell\n",
        "Trials\n"
      ]
    },
    {
      "cell_type": "markdown",
      "metadata": {
        "id": "ooNoq1qyiiG6",
        "colab_type": "text"
      },
      "source": [
        "Hello this is my text\n",
        "\n",
        "![alt text for image](https://scontent.fcok1-1.fna.fbcdn.net/v/t1.0-1/p240x240/67682278_1272744369563195_7793171042800762880_n.jpg?_nc_cat=109&_nc_sid=dbb9e7&_nc_oc=AQknUOFKMGj9QfMmiKWO8zDxs8koVeMPH1zMkKUehzLpfS0v-_1dtG9uJzmjLGkYCB-NEkBMO9vBFfKqCGmk7Tux&_nc_ht=scontent.fcok1-1.fna&_nc_tp=6&oh=a8e8e4fd5afd88438cb720f40267c859&oe=5EF4626D)"
      ]
    },
    {
      "cell_type": "markdown",
      "metadata": {
        "id": "YPGCUl2kKt0J",
        "colab_type": "text"
      },
      "source": [
        "## New Section\n",
        "using  new section"
      ]
    },
    {
      "cell_type": "code",
      "metadata": {
        "id": "2AfiISnpiH2D",
        "colab_type": "code",
        "colab": {}
      },
      "source": [
        "# First Code\n",
        "\n",
        "for i in range(10):\n",
        "  print(i)"
      ],
      "execution_count": 0,
      "outputs": []
    },
    {
      "cell_type": "code",
      "metadata": {
        "id": "Pu_1B3g4mjpA",
        "colab_type": "code",
        "colab": {}
      },
      "source": [
        "def greeting(x):\n",
        "  print(\"Hello\",x)"
      ],
      "execution_count": 0,
      "outputs": []
    },
    {
      "cell_type": "code",
      "metadata": {
        "id": "gd94uOaljM9E",
        "colab_type": "code",
        "colab": {}
      },
      "source": [
        "greeting(\"Joyal\")"
      ],
      "execution_count": 0,
      "outputs": []
    },
    {
      "cell_type": "code",
      "metadata": {
        "id": "RPyDWhsRK7vI",
        "colab_type": "code",
        "colab": {
          "base_uri": "https://localhost:8080/",
          "height": 52
        },
        "outputId": "981423a5-3e20-44b4-ecc5-d6c7446d7944"
      },
      "source": [
        ""
      ],
      "execution_count": 9,
      "outputs": [
        {
          "output_type": "stream",
          "text": [
            "\u001b[0m\u001b[01;34msample_data\u001b[0m/\n",
            "None\n"
          ],
          "name": "stdout"
        }
      ]
    },
    {
      "cell_type": "markdown",
      "metadata": {
        "id": "A-f4UTmhjLi4",
        "colab_type": "text"
      },
      "source": [
        ""
      ]
    },
    {
      "cell_type": "markdown",
      "metadata": {
        "colab_type": "text",
        "id": "9C1nSkFFXltU"
      },
      "source": [
        "## New Section\n",
        "using  new section"
      ]
    }
  ]
}